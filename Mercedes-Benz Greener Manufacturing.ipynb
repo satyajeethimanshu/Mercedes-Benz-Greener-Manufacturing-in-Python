{
 "cells": [
  {
   "cell_type": "code",
   "execution_count": 193,
   "id": "8dacc863",
   "metadata": {},
   "outputs": [],
   "source": [
    "import pandas as pd\n",
    "import numpy as np\n",
    "import matplotlib.pyplot as plt\n",
    "%matplotlib inline\n",
    "\n",
    "import os\n",
    "import warnings\n",
    "warnings.filterwarnings(\"ignore\")"
   ]
  },
  {
   "cell_type": "code",
   "execution_count": 194,
   "id": "692141f6",
   "metadata": {},
   "outputs": [],
   "source": [
    "train_data = pd.read_csv(\"ML_train.csv\")\n",
    "test_data = pd.read_csv(\"ML_test.csv\")"
   ]
  },
  {
   "cell_type": "code",
   "execution_count": 195,
   "id": "573f732f",
   "metadata": {},
   "outputs": [
    {
     "data": {
      "text/html": [
       "<div>\n",
       "<style scoped>\n",
       "    .dataframe tbody tr th:only-of-type {\n",
       "        vertical-align: middle;\n",
       "    }\n",
       "\n",
       "    .dataframe tbody tr th {\n",
       "        vertical-align: top;\n",
       "    }\n",
       "\n",
       "    .dataframe thead th {\n",
       "        text-align: right;\n",
       "    }\n",
       "</style>\n",
       "<table border=\"1\" class=\"dataframe\">\n",
       "  <thead>\n",
       "    <tr style=\"text-align: right;\">\n",
       "      <th></th>\n",
       "      <th>ID</th>\n",
       "      <th>y</th>\n",
       "      <th>X0</th>\n",
       "      <th>X1</th>\n",
       "      <th>X2</th>\n",
       "      <th>X3</th>\n",
       "      <th>X4</th>\n",
       "      <th>X5</th>\n",
       "      <th>X6</th>\n",
       "      <th>X8</th>\n",
       "      <th>...</th>\n",
       "      <th>X375</th>\n",
       "      <th>X376</th>\n",
       "      <th>X377</th>\n",
       "      <th>X378</th>\n",
       "      <th>X379</th>\n",
       "      <th>X380</th>\n",
       "      <th>X382</th>\n",
       "      <th>X383</th>\n",
       "      <th>X384</th>\n",
       "      <th>X385</th>\n",
       "    </tr>\n",
       "  </thead>\n",
       "  <tbody>\n",
       "    <tr>\n",
       "      <th>0</th>\n",
       "      <td>0</td>\n",
       "      <td>130.81</td>\n",
       "      <td>k</td>\n",
       "      <td>v</td>\n",
       "      <td>at</td>\n",
       "      <td>a</td>\n",
       "      <td>d</td>\n",
       "      <td>u</td>\n",
       "      <td>j</td>\n",
       "      <td>o</td>\n",
       "      <td>...</td>\n",
       "      <td>0</td>\n",
       "      <td>0</td>\n",
       "      <td>1</td>\n",
       "      <td>0</td>\n",
       "      <td>0</td>\n",
       "      <td>0</td>\n",
       "      <td>0</td>\n",
       "      <td>0</td>\n",
       "      <td>0</td>\n",
       "      <td>0</td>\n",
       "    </tr>\n",
       "    <tr>\n",
       "      <th>1</th>\n",
       "      <td>6</td>\n",
       "      <td>88.53</td>\n",
       "      <td>k</td>\n",
       "      <td>t</td>\n",
       "      <td>av</td>\n",
       "      <td>e</td>\n",
       "      <td>d</td>\n",
       "      <td>y</td>\n",
       "      <td>l</td>\n",
       "      <td>o</td>\n",
       "      <td>...</td>\n",
       "      <td>1</td>\n",
       "      <td>0</td>\n",
       "      <td>0</td>\n",
       "      <td>0</td>\n",
       "      <td>0</td>\n",
       "      <td>0</td>\n",
       "      <td>0</td>\n",
       "      <td>0</td>\n",
       "      <td>0</td>\n",
       "      <td>0</td>\n",
       "    </tr>\n",
       "    <tr>\n",
       "      <th>2</th>\n",
       "      <td>7</td>\n",
       "      <td>76.26</td>\n",
       "      <td>az</td>\n",
       "      <td>w</td>\n",
       "      <td>n</td>\n",
       "      <td>c</td>\n",
       "      <td>d</td>\n",
       "      <td>x</td>\n",
       "      <td>j</td>\n",
       "      <td>x</td>\n",
       "      <td>...</td>\n",
       "      <td>0</td>\n",
       "      <td>0</td>\n",
       "      <td>0</td>\n",
       "      <td>0</td>\n",
       "      <td>0</td>\n",
       "      <td>0</td>\n",
       "      <td>1</td>\n",
       "      <td>0</td>\n",
       "      <td>0</td>\n",
       "      <td>0</td>\n",
       "    </tr>\n",
       "    <tr>\n",
       "      <th>3</th>\n",
       "      <td>9</td>\n",
       "      <td>80.62</td>\n",
       "      <td>az</td>\n",
       "      <td>t</td>\n",
       "      <td>n</td>\n",
       "      <td>f</td>\n",
       "      <td>d</td>\n",
       "      <td>x</td>\n",
       "      <td>l</td>\n",
       "      <td>e</td>\n",
       "      <td>...</td>\n",
       "      <td>0</td>\n",
       "      <td>0</td>\n",
       "      <td>0</td>\n",
       "      <td>0</td>\n",
       "      <td>0</td>\n",
       "      <td>0</td>\n",
       "      <td>0</td>\n",
       "      <td>0</td>\n",
       "      <td>0</td>\n",
       "      <td>0</td>\n",
       "    </tr>\n",
       "    <tr>\n",
       "      <th>4</th>\n",
       "      <td>13</td>\n",
       "      <td>78.02</td>\n",
       "      <td>az</td>\n",
       "      <td>v</td>\n",
       "      <td>n</td>\n",
       "      <td>f</td>\n",
       "      <td>d</td>\n",
       "      <td>h</td>\n",
       "      <td>d</td>\n",
       "      <td>n</td>\n",
       "      <td>...</td>\n",
       "      <td>0</td>\n",
       "      <td>0</td>\n",
       "      <td>0</td>\n",
       "      <td>0</td>\n",
       "      <td>0</td>\n",
       "      <td>0</td>\n",
       "      <td>0</td>\n",
       "      <td>0</td>\n",
       "      <td>0</td>\n",
       "      <td>0</td>\n",
       "    </tr>\n",
       "  </tbody>\n",
       "</table>\n",
       "<p>5 rows × 378 columns</p>\n",
       "</div>"
      ],
      "text/plain": [
       "   ID       y  X0 X1  X2 X3 X4 X5 X6 X8  ...  X375  X376  X377  X378  X379  \\\n",
       "0   0  130.81   k  v  at  a  d  u  j  o  ...     0     0     1     0     0   \n",
       "1   6   88.53   k  t  av  e  d  y  l  o  ...     1     0     0     0     0   \n",
       "2   7   76.26  az  w   n  c  d  x  j  x  ...     0     0     0     0     0   \n",
       "3   9   80.62  az  t   n  f  d  x  l  e  ...     0     0     0     0     0   \n",
       "4  13   78.02  az  v   n  f  d  h  d  n  ...     0     0     0     0     0   \n",
       "\n",
       "   X380  X382  X383  X384  X385  \n",
       "0     0     0     0     0     0  \n",
       "1     0     0     0     0     0  \n",
       "2     0     1     0     0     0  \n",
       "3     0     0     0     0     0  \n",
       "4     0     0     0     0     0  \n",
       "\n",
       "[5 rows x 378 columns]"
      ]
     },
     "execution_count": 195,
     "metadata": {},
     "output_type": "execute_result"
    }
   ],
   "source": [
    "train_data.head()"
   ]
  },
  {
   "cell_type": "code",
   "execution_count": 196,
   "id": "c377c47b",
   "metadata": {},
   "outputs": [
    {
     "name": "stdout",
     "output_type": "stream",
     "text": [
      "Rows =  4209 Columns = 378\n"
     ]
    }
   ],
   "source": [
    "rows, columns = train_data.shape\n",
    "print('Rows = ' , rows, 'Columns =' , columns )"
   ]
  },
  {
   "cell_type": "code",
   "execution_count": 197,
   "id": "a4531872",
   "metadata": {},
   "outputs": [
    {
     "name": "stdout",
     "output_type": "stream",
     "text": [
      "<class 'pandas.core.frame.DataFrame'>\n",
      "RangeIndex: 4209 entries, 0 to 4208\n",
      "Columns: 378 entries, ID to X385\n",
      "dtypes: float64(1), int64(369), object(8)\n",
      "memory usage: 12.1+ MB\n"
     ]
    }
   ],
   "source": [
    "train_data.info()"
   ]
  },
  {
   "cell_type": "code",
   "execution_count": 198,
   "id": "7d80a299",
   "metadata": {},
   "outputs": [
    {
     "data": {
      "text/html": [
       "<div>\n",
       "<style scoped>\n",
       "    .dataframe tbody tr th:only-of-type {\n",
       "        vertical-align: middle;\n",
       "    }\n",
       "\n",
       "    .dataframe tbody tr th {\n",
       "        vertical-align: top;\n",
       "    }\n",
       "\n",
       "    .dataframe thead th {\n",
       "        text-align: right;\n",
       "    }\n",
       "</style>\n",
       "<table border=\"1\" class=\"dataframe\">\n",
       "  <thead>\n",
       "    <tr style=\"text-align: right;\">\n",
       "      <th></th>\n",
       "      <th>count</th>\n",
       "      <th>mean</th>\n",
       "      <th>std</th>\n",
       "      <th>min</th>\n",
       "      <th>25%</th>\n",
       "      <th>50%</th>\n",
       "      <th>75%</th>\n",
       "      <th>max</th>\n",
       "    </tr>\n",
       "  </thead>\n",
       "  <tbody>\n",
       "    <tr>\n",
       "      <th>ID</th>\n",
       "      <td>4209.0</td>\n",
       "      <td>4205.960798</td>\n",
       "      <td>2437.608688</td>\n",
       "      <td>0.00</td>\n",
       "      <td>2095.00</td>\n",
       "      <td>4220.00</td>\n",
       "      <td>6314.00</td>\n",
       "      <td>8417.00</td>\n",
       "    </tr>\n",
       "    <tr>\n",
       "      <th>y</th>\n",
       "      <td>4209.0</td>\n",
       "      <td>100.669318</td>\n",
       "      <td>12.679381</td>\n",
       "      <td>72.11</td>\n",
       "      <td>90.82</td>\n",
       "      <td>99.15</td>\n",
       "      <td>109.01</td>\n",
       "      <td>265.32</td>\n",
       "    </tr>\n",
       "    <tr>\n",
       "      <th>X10</th>\n",
       "      <td>4209.0</td>\n",
       "      <td>0.013305</td>\n",
       "      <td>0.114590</td>\n",
       "      <td>0.00</td>\n",
       "      <td>0.00</td>\n",
       "      <td>0.00</td>\n",
       "      <td>0.00</td>\n",
       "      <td>1.00</td>\n",
       "    </tr>\n",
       "    <tr>\n",
       "      <th>X11</th>\n",
       "      <td>4209.0</td>\n",
       "      <td>0.000000</td>\n",
       "      <td>0.000000</td>\n",
       "      <td>0.00</td>\n",
       "      <td>0.00</td>\n",
       "      <td>0.00</td>\n",
       "      <td>0.00</td>\n",
       "      <td>0.00</td>\n",
       "    </tr>\n",
       "    <tr>\n",
       "      <th>X12</th>\n",
       "      <td>4209.0</td>\n",
       "      <td>0.075077</td>\n",
       "      <td>0.263547</td>\n",
       "      <td>0.00</td>\n",
       "      <td>0.00</td>\n",
       "      <td>0.00</td>\n",
       "      <td>0.00</td>\n",
       "      <td>1.00</td>\n",
       "    </tr>\n",
       "    <tr>\n",
       "      <th>...</th>\n",
       "      <td>...</td>\n",
       "      <td>...</td>\n",
       "      <td>...</td>\n",
       "      <td>...</td>\n",
       "      <td>...</td>\n",
       "      <td>...</td>\n",
       "      <td>...</td>\n",
       "      <td>...</td>\n",
       "    </tr>\n",
       "    <tr>\n",
       "      <th>X380</th>\n",
       "      <td>4209.0</td>\n",
       "      <td>0.008078</td>\n",
       "      <td>0.089524</td>\n",
       "      <td>0.00</td>\n",
       "      <td>0.00</td>\n",
       "      <td>0.00</td>\n",
       "      <td>0.00</td>\n",
       "      <td>1.00</td>\n",
       "    </tr>\n",
       "    <tr>\n",
       "      <th>X382</th>\n",
       "      <td>4209.0</td>\n",
       "      <td>0.007603</td>\n",
       "      <td>0.086872</td>\n",
       "      <td>0.00</td>\n",
       "      <td>0.00</td>\n",
       "      <td>0.00</td>\n",
       "      <td>0.00</td>\n",
       "      <td>1.00</td>\n",
       "    </tr>\n",
       "    <tr>\n",
       "      <th>X383</th>\n",
       "      <td>4209.0</td>\n",
       "      <td>0.001663</td>\n",
       "      <td>0.040752</td>\n",
       "      <td>0.00</td>\n",
       "      <td>0.00</td>\n",
       "      <td>0.00</td>\n",
       "      <td>0.00</td>\n",
       "      <td>1.00</td>\n",
       "    </tr>\n",
       "    <tr>\n",
       "      <th>X384</th>\n",
       "      <td>4209.0</td>\n",
       "      <td>0.000475</td>\n",
       "      <td>0.021796</td>\n",
       "      <td>0.00</td>\n",
       "      <td>0.00</td>\n",
       "      <td>0.00</td>\n",
       "      <td>0.00</td>\n",
       "      <td>1.00</td>\n",
       "    </tr>\n",
       "    <tr>\n",
       "      <th>X385</th>\n",
       "      <td>4209.0</td>\n",
       "      <td>0.001426</td>\n",
       "      <td>0.037734</td>\n",
       "      <td>0.00</td>\n",
       "      <td>0.00</td>\n",
       "      <td>0.00</td>\n",
       "      <td>0.00</td>\n",
       "      <td>1.00</td>\n",
       "    </tr>\n",
       "  </tbody>\n",
       "</table>\n",
       "<p>370 rows × 8 columns</p>\n",
       "</div>"
      ],
      "text/plain": [
       "       count         mean          std    min      25%      50%      75%  \\\n",
       "ID    4209.0  4205.960798  2437.608688   0.00  2095.00  4220.00  6314.00   \n",
       "y     4209.0   100.669318    12.679381  72.11    90.82    99.15   109.01   \n",
       "X10   4209.0     0.013305     0.114590   0.00     0.00     0.00     0.00   \n",
       "X11   4209.0     0.000000     0.000000   0.00     0.00     0.00     0.00   \n",
       "X12   4209.0     0.075077     0.263547   0.00     0.00     0.00     0.00   \n",
       "...      ...          ...          ...    ...      ...      ...      ...   \n",
       "X380  4209.0     0.008078     0.089524   0.00     0.00     0.00     0.00   \n",
       "X382  4209.0     0.007603     0.086872   0.00     0.00     0.00     0.00   \n",
       "X383  4209.0     0.001663     0.040752   0.00     0.00     0.00     0.00   \n",
       "X384  4209.0     0.000475     0.021796   0.00     0.00     0.00     0.00   \n",
       "X385  4209.0     0.001426     0.037734   0.00     0.00     0.00     0.00   \n",
       "\n",
       "          max  \n",
       "ID    8417.00  \n",
       "y      265.32  \n",
       "X10      1.00  \n",
       "X11      0.00  \n",
       "X12      1.00  \n",
       "...       ...  \n",
       "X380     1.00  \n",
       "X382     1.00  \n",
       "X383     1.00  \n",
       "X384     1.00  \n",
       "X385     1.00  \n",
       "\n",
       "[370 rows x 8 columns]"
      ]
     },
     "execution_count": 198,
     "metadata": {},
     "output_type": "execute_result"
    }
   ],
   "source": [
    "train_data.describe().transpose()"
   ]
  },
  {
   "cell_type": "code",
   "execution_count": 199,
   "id": "fa0dd8fa",
   "metadata": {},
   "outputs": [
    {
     "name": "stdout",
     "output_type": "stream",
     "text": [
      "Duplicate Rows : Empty DataFrame\n",
      "Columns: [ID, y, X0, X1, X2, X3, X4, X5, X6, X8, X10, X11, X12, X13, X14, X15, X16, X17, X18, X19, X20, X21, X22, X23, X24, X26, X27, X28, X29, X30, X31, X32, X33, X34, X35, X36, X37, X38, X39, X40, X41, X42, X43, X44, X45, X46, X47, X48, X49, X50, X51, X52, X53, X54, X55, X56, X57, X58, X59, X60, X61, X62, X63, X64, X65, X66, X67, X68, X69, X70, X71, X73, X74, X75, X76, X77, X78, X79, X80, X81, X82, X83, X84, X85, X86, X87, X88, X89, X90, X91, X92, X93, X94, X95, X96, X97, X98, X99, X100, X101, ...]\n",
      "Index: []\n",
      "\n",
      "[0 rows x 378 columns]\n"
     ]
    }
   ],
   "source": [
    "duplicate = train_data[train_data.duplicated(keep = 'last')]\n",
    "print(\"Duplicate Rows :\",duplicate)"
   ]
  },
  {
   "cell_type": "markdown",
   "id": "0e2b239f",
   "metadata": {},
   "source": [
    "# 1. If for any column(s), the variance is equal to zero, then you need to remove those variable(s)."
   ]
  },
  {
   "cell_type": "code",
   "execution_count": 200,
   "id": "ed0e1bea",
   "metadata": {
    "scrolled": false
   },
   "outputs": [
    {
     "data": {
      "text/plain": [
       "ID      False\n",
       "y       False\n",
       "X10     False\n",
       "X11      True\n",
       "X12     False\n",
       "        ...  \n",
       "X380    False\n",
       "X382    False\n",
       "X383    False\n",
       "X384    False\n",
       "X385    False\n",
       "Length: 370, dtype: bool"
      ]
     },
     "execution_count": 200,
     "metadata": {},
     "output_type": "execute_result"
    }
   ],
   "source": [
    "variance_0= train_data.var() == 0\n",
    "variance_0"
   ]
  },
  {
   "cell_type": "code",
   "execution_count": 201,
   "id": "89b1db2b",
   "metadata": {},
   "outputs": [
    {
     "data": {
      "text/plain": [
       "['X11',\n",
       " 'X93',\n",
       " 'X107',\n",
       " 'X233',\n",
       " 'X235',\n",
       " 'X268',\n",
       " 'X289',\n",
       " 'X290',\n",
       " 'X293',\n",
       " 'X297',\n",
       " 'X330',\n",
       " 'X347']"
      ]
     },
     "execution_count": 201,
     "metadata": {},
     "output_type": "execute_result"
    }
   ],
   "source": [
    "variance = variance_0[variance_0].index.to_list()\n",
    "variance"
   ]
  },
  {
   "cell_type": "code",
   "execution_count": 202,
   "id": "8bd6f358",
   "metadata": {},
   "outputs": [
    {
     "data": {
      "text/plain": [
       "int64      357\n",
       "object       8\n",
       "float64      1\n",
       "dtype: int64"
      ]
     },
     "execution_count": 202,
     "metadata": {},
     "output_type": "execute_result"
    }
   ],
   "source": [
    "train_data.drop(variance, axis = 1,inplace=True)\n",
    "train_data.dtypes.value_counts()"
   ]
  },
  {
   "cell_type": "code",
   "execution_count": 203,
   "id": "bd47ac74",
   "metadata": {},
   "outputs": [
    {
     "data": {
      "text/plain": [
       "int64     357\n",
       "object      8\n",
       "dtype: int64"
      ]
     },
     "execution_count": 203,
     "metadata": {},
     "output_type": "execute_result"
    }
   ],
   "source": [
    "test_data.drop(variance, axis = 1,inplace=True)\n",
    "test_data.dtypes.value_counts()"
   ]
  },
  {
   "cell_type": "markdown",
   "id": "3ef7ca18",
   "metadata": {},
   "source": [
    "# 2.Check for null and unique values for test and train sets."
   ]
  },
  {
   "cell_type": "code",
   "execution_count": 204,
   "id": "5a50aacc",
   "metadata": {},
   "outputs": [
    {
     "data": {
      "text/plain": [
       "False"
      ]
     },
     "execution_count": 204,
     "metadata": {},
     "output_type": "execute_result"
    }
   ],
   "source": [
    "train_data.isnull().any().any()"
   ]
  },
  {
   "cell_type": "code",
   "execution_count": 205,
   "id": "891f3e69",
   "metadata": {},
   "outputs": [
    {
     "data": {
      "text/plain": [
       "False"
      ]
     },
     "execution_count": 205,
     "metadata": {},
     "output_type": "execute_result"
    }
   ],
   "source": [
    "test_data.isnull().any().any()"
   ]
  },
  {
   "cell_type": "code",
   "execution_count": 206,
   "id": "9742bb9d",
   "metadata": {},
   "outputs": [
    {
     "data": {
      "text/plain": [
       "ID      4209\n",
       "y       2545\n",
       "X0        47\n",
       "X2        44\n",
       "X5        29\n",
       "        ... \n",
       "X131       2\n",
       "X130       2\n",
       "X129       2\n",
       "X128       2\n",
       "X385       2\n",
       "Length: 366, dtype: int64"
      ]
     },
     "execution_count": 206,
     "metadata": {},
     "output_type": "execute_result"
    }
   ],
   "source": [
    "train_data.nunique().sort_values(ascending=False)"
   ]
  },
  {
   "cell_type": "code",
   "execution_count": 207,
   "id": "3a671c6c",
   "metadata": {},
   "outputs": [
    {
     "data": {
      "text/plain": [
       "ID      4209\n",
       "X0        49\n",
       "X2        45\n",
       "X5        32\n",
       "X1        27\n",
       "        ... \n",
       "X369       1\n",
       "X257       1\n",
       "X258       1\n",
       "X296       1\n",
       "X295       1\n",
       "Length: 365, dtype: int64"
      ]
     },
     "execution_count": 207,
     "metadata": {},
     "output_type": "execute_result"
    }
   ],
   "source": [
    "test_data.nunique().sort_values(ascending=False)"
   ]
  },
  {
   "cell_type": "markdown",
   "id": "d9d9bf5f",
   "metadata": {},
   "source": [
    "# 3. Apply label encoder."
   ]
  },
  {
   "cell_type": "code",
   "execution_count": 208,
   "id": "62812fa9",
   "metadata": {},
   "outputs": [
    {
     "data": {
      "text/plain": [
       "['X6', 'X5', 'X1', 'X2', 'X4', 'X3', 'X8', 'X0']"
      ]
     },
     "execution_count": 208,
     "metadata": {},
     "output_type": "execute_result"
    }
   ],
   "source": [
    "cols = train_data.columns\n",
    "num_cols = train_data._get_numeric_data().columns\n",
    "cat_cols = list(set(cols) - set(num_cols))\n",
    "cat_cols"
   ]
  },
  {
   "cell_type": "code",
   "execution_count": 209,
   "id": "847b14ad",
   "metadata": {},
   "outputs": [],
   "source": [
    "from sklearn.preprocessing import LabelEncoder\n",
    "\n",
    "class LabelEncoderExt(object):\n",
    "    def __init__(self):\n",
    "             \n",
    "            self.label_encoder = LabelEncoder()\n",
    "        \n",
    "    def fit(self, data_list):\n",
    "     \n",
    "        self.label_encoder = self.label_encoder.fit(list(data_list) + ['Unknown'])\n",
    "        self.classes_ = self.label_encoder.classes_\n",
    "\n",
    "        return self\n",
    "\n",
    "    def transform(self, data_list):\n",
    "        \n",
    "        new_data_list = list(data_list)\n",
    "        for unique_item in np.unique(data_list):\n",
    "            if unique_item not in self.label_encoder.classes_:\n",
    "                new_data_list = ['Unknown' if x==unique_item else x for x in new_data_list]\n",
    "\n",
    "        return self.label_encoder.transform(new_data_list)\n",
    "    \n",
    "    "
   ]
  },
  {
   "cell_type": "code",
   "execution_count": 210,
   "id": "2d4a2148",
   "metadata": {},
   "outputs": [],
   "source": [
    "for c in cat_cols:\n",
    "    label_encoder = LabelEncoderExt()\n",
    "    label_encoder.fit(train_data[c])\n",
    "    train_data[c] =label_encoder.transform(train_data[c])\n",
    "    test_data[c]=label_encoder.transform(test_data[c])"
   ]
  },
  {
   "cell_type": "code",
   "execution_count": 211,
   "id": "a3ace7be",
   "metadata": {},
   "outputs": [
    {
     "data": {
      "text/html": [
       "<div>\n",
       "<style scoped>\n",
       "    .dataframe tbody tr th:only-of-type {\n",
       "        vertical-align: middle;\n",
       "    }\n",
       "\n",
       "    .dataframe tbody tr th {\n",
       "        vertical-align: top;\n",
       "    }\n",
       "\n",
       "    .dataframe thead th {\n",
       "        text-align: right;\n",
       "    }\n",
       "</style>\n",
       "<table border=\"1\" class=\"dataframe\">\n",
       "  <thead>\n",
       "    <tr style=\"text-align: right;\">\n",
       "      <th></th>\n",
       "      <th>ID</th>\n",
       "      <th>y</th>\n",
       "      <th>X0</th>\n",
       "      <th>X1</th>\n",
       "      <th>X2</th>\n",
       "      <th>X3</th>\n",
       "      <th>X4</th>\n",
       "      <th>X5</th>\n",
       "      <th>X6</th>\n",
       "      <th>X8</th>\n",
       "      <th>...</th>\n",
       "      <th>X375</th>\n",
       "      <th>X376</th>\n",
       "      <th>X377</th>\n",
       "      <th>X378</th>\n",
       "      <th>X379</th>\n",
       "      <th>X380</th>\n",
       "      <th>X382</th>\n",
       "      <th>X383</th>\n",
       "      <th>X384</th>\n",
       "      <th>X385</th>\n",
       "    </tr>\n",
       "  </thead>\n",
       "  <tbody>\n",
       "    <tr>\n",
       "      <th>0</th>\n",
       "      <td>0</td>\n",
       "      <td>130.81</td>\n",
       "      <td>33</td>\n",
       "      <td>24</td>\n",
       "      <td>18</td>\n",
       "      <td>1</td>\n",
       "      <td>4</td>\n",
       "      <td>25</td>\n",
       "      <td>10</td>\n",
       "      <td>15</td>\n",
       "      <td>...</td>\n",
       "      <td>0</td>\n",
       "      <td>0</td>\n",
       "      <td>1</td>\n",
       "      <td>0</td>\n",
       "      <td>0</td>\n",
       "      <td>0</td>\n",
       "      <td>0</td>\n",
       "      <td>0</td>\n",
       "      <td>0</td>\n",
       "      <td>0</td>\n",
       "    </tr>\n",
       "    <tr>\n",
       "      <th>1</th>\n",
       "      <td>6</td>\n",
       "      <td>88.53</td>\n",
       "      <td>33</td>\n",
       "      <td>22</td>\n",
       "      <td>20</td>\n",
       "      <td>5</td>\n",
       "      <td>4</td>\n",
       "      <td>29</td>\n",
       "      <td>12</td>\n",
       "      <td>15</td>\n",
       "      <td>...</td>\n",
       "      <td>1</td>\n",
       "      <td>0</td>\n",
       "      <td>0</td>\n",
       "      <td>0</td>\n",
       "      <td>0</td>\n",
       "      <td>0</td>\n",
       "      <td>0</td>\n",
       "      <td>0</td>\n",
       "      <td>0</td>\n",
       "      <td>0</td>\n",
       "    </tr>\n",
       "    <tr>\n",
       "      <th>2</th>\n",
       "      <td>7</td>\n",
       "      <td>76.26</td>\n",
       "      <td>21</td>\n",
       "      <td>25</td>\n",
       "      <td>35</td>\n",
       "      <td>3</td>\n",
       "      <td>4</td>\n",
       "      <td>28</td>\n",
       "      <td>10</td>\n",
       "      <td>24</td>\n",
       "      <td>...</td>\n",
       "      <td>0</td>\n",
       "      <td>0</td>\n",
       "      <td>0</td>\n",
       "      <td>0</td>\n",
       "      <td>0</td>\n",
       "      <td>0</td>\n",
       "      <td>1</td>\n",
       "      <td>0</td>\n",
       "      <td>0</td>\n",
       "      <td>0</td>\n",
       "    </tr>\n",
       "    <tr>\n",
       "      <th>3</th>\n",
       "      <td>9</td>\n",
       "      <td>80.62</td>\n",
       "      <td>21</td>\n",
       "      <td>22</td>\n",
       "      <td>35</td>\n",
       "      <td>6</td>\n",
       "      <td>4</td>\n",
       "      <td>28</td>\n",
       "      <td>12</td>\n",
       "      <td>5</td>\n",
       "      <td>...</td>\n",
       "      <td>0</td>\n",
       "      <td>0</td>\n",
       "      <td>0</td>\n",
       "      <td>0</td>\n",
       "      <td>0</td>\n",
       "      <td>0</td>\n",
       "      <td>0</td>\n",
       "      <td>0</td>\n",
       "      <td>0</td>\n",
       "      <td>0</td>\n",
       "    </tr>\n",
       "    <tr>\n",
       "      <th>4</th>\n",
       "      <td>13</td>\n",
       "      <td>78.02</td>\n",
       "      <td>21</td>\n",
       "      <td>24</td>\n",
       "      <td>35</td>\n",
       "      <td>6</td>\n",
       "      <td>4</td>\n",
       "      <td>13</td>\n",
       "      <td>4</td>\n",
       "      <td>14</td>\n",
       "      <td>...</td>\n",
       "      <td>0</td>\n",
       "      <td>0</td>\n",
       "      <td>0</td>\n",
       "      <td>0</td>\n",
       "      <td>0</td>\n",
       "      <td>0</td>\n",
       "      <td>0</td>\n",
       "      <td>0</td>\n",
       "      <td>0</td>\n",
       "      <td>0</td>\n",
       "    </tr>\n",
       "  </tbody>\n",
       "</table>\n",
       "<p>5 rows × 366 columns</p>\n",
       "</div>"
      ],
      "text/plain": [
       "   ID       y  X0  X1  X2  X3  X4  X5  X6  X8  ...  X375  X376  X377  X378  \\\n",
       "0   0  130.81  33  24  18   1   4  25  10  15  ...     0     0     1     0   \n",
       "1   6   88.53  33  22  20   5   4  29  12  15  ...     1     0     0     0   \n",
       "2   7   76.26  21  25  35   3   4  28  10  24  ...     0     0     0     0   \n",
       "3   9   80.62  21  22  35   6   4  28  12   5  ...     0     0     0     0   \n",
       "4  13   78.02  21  24  35   6   4  13   4  14  ...     0     0     0     0   \n",
       "\n",
       "   X379  X380  X382  X383  X384  X385  \n",
       "0     0     0     0     0     0     0  \n",
       "1     0     0     0     0     0     0  \n",
       "2     0     0     1     0     0     0  \n",
       "3     0     0     0     0     0     0  \n",
       "4     0     0     0     0     0     0  \n",
       "\n",
       "[5 rows x 366 columns]"
      ]
     },
     "execution_count": 211,
     "metadata": {},
     "output_type": "execute_result"
    }
   ],
   "source": [
    "train_data.head()"
   ]
  },
  {
   "cell_type": "markdown",
   "id": "3e50e4f2",
   "metadata": {},
   "source": [
    "# 4. Perform dimensionality reduction."
   ]
  },
  {
   "cell_type": "code",
   "execution_count": 212,
   "id": "432315f4",
   "metadata": {},
   "outputs": [],
   "source": [
    "y_train = train_data['y']\n",
    "del train_data['y']\n",
    "\n",
    "del train_data['ID']\n",
    "\n",
    "test_data_ID=test_data['ID']\n",
    "del test_data['ID']"
   ]
  },
  {
   "cell_type": "code",
   "execution_count": 213,
   "id": "c8cf1985",
   "metadata": {},
   "outputs": [
    {
     "data": {
      "text/plain": [
       "(4209, 8)"
      ]
     },
     "execution_count": 213,
     "metadata": {},
     "output_type": "execute_result"
    }
   ],
   "source": [
    "from sklearn.decomposition import PCA \n",
    "pca = PCA(n_components=8)\n",
    "pca.fit(train_data)\n",
    "x_pca = pca.transform(train_data)\n",
    "x_pca.shape"
   ]
  },
  {
   "cell_type": "code",
   "execution_count": 214,
   "id": "cdaeb780",
   "metadata": {},
   "outputs": [],
   "source": [
    "vr=pca.explained_variance_ratio_"
   ]
  },
  {
   "cell_type": "code",
   "execution_count": 215,
   "id": "68ff659e",
   "metadata": {},
   "outputs": [
    {
     "data": {
      "text/plain": [
       "(8,)"
      ]
     },
     "execution_count": 215,
     "metadata": {},
     "output_type": "execute_result"
    }
   ],
   "source": [
    "vr.shape"
   ]
  },
  {
   "cell_type": "code",
   "execution_count": 216,
   "id": "81037121",
   "metadata": {},
   "outputs": [
    {
     "data": {
      "text/plain": [
       "[<matplotlib.lines.Line2D at 0x21c087fb400>]"
      ]
     },
     "execution_count": 216,
     "metadata": {},
     "output_type": "execute_result"
    },
    {
     "data": {
      "image/png": "[encoded data removed]",
      "text/plain": [
       "<Figure size 432x288 with 1 Axes>"
      ]
     },
     "metadata": {
      "needs_background": "light"
     },
     "output_type": "display_data"
    }
   ],
   "source": [
    "cum_vr=np.cumsum(vr)\n",
    "plt.plot(cum_vr)"
   ]
  },
  {
   "cell_type": "markdown",
   "id": "121c200a",
   "metadata": {},
   "source": [
    "Aove 90% data effected by 05 Components so, will be considered 05 components"
   ]
  },
  {
   "cell_type": "code",
   "execution_count": 217,
   "id": "ac2a8679",
   "metadata": {},
   "outputs": [
    {
     "data": {
      "text/plain": [
       "(4209, 5)"
      ]
     },
     "execution_count": 217,
     "metadata": {},
     "output_type": "execute_result"
    }
   ],
   "source": [
    "from sklearn.decomposition import PCA \n",
    "pca = PCA(n_components=5)\n",
    "pca.fit(train_data)\n",
    "x_train_pca = pca.transform(train_data)\n",
    "x_train_pca.shape"
   ]
  },
  {
   "cell_type": "code",
   "execution_count": 218,
   "id": "db5b4a33",
   "metadata": {},
   "outputs": [
    {
     "data": {
      "text/plain": [
       "(4209, 5)"
      ]
     },
     "execution_count": 218,
     "metadata": {},
     "output_type": "execute_result"
    }
   ],
   "source": [
    "x_test_pca = pca.transform(test_data)\n",
    "x_test_pca.shape"
   ]
  },
  {
   "cell_type": "markdown",
   "id": "3924cf96",
   "metadata": {},
   "source": [
    "# 5. Predict your test_df values using XGBoost."
   ]
  },
  {
   "cell_type": "code",
   "execution_count": 219,
   "id": "88e61895",
   "metadata": {},
   "outputs": [],
   "source": [
    "import xgboost as xg\n",
    "from sklearn.metrics import r2_score\n",
    "from sklearn.model_selection import train_test_split\n",
    "from sklearn.metrics import mean_squared_error as MSE\n",
    "\n",
    "x_train_f, x_valid_f, y_train_f, y_valid_f = train_test_split(x_train_pca, y_train, test_size=0.3,random_state=123)"
   ]
  },
  {
   "cell_type": "code",
   "execution_count": 221,
   "id": "973f85db",
   "metadata": {},
   "outputs": [],
   "source": [
    "d_train = xg.DMatrix(x_train_f, label=y_train_f)\n",
    "d_valid = xg.DMatrix(x_valid_f, label=y_valid_f)\n",
    "d_test = xg.DMatrix(x_test_pca)"
   ]
  },
  {
   "cell_type": "code",
   "execution_count": 222,
   "id": "ccc25534",
   "metadata": {},
   "outputs": [
    {
     "name": "stdout",
     "output_type": "stream",
     "text": [
      "[05:11:50] WARNING: c:\\ci\\xgboost-split_1638290375667\\work\\src\\objective\\regression_obj.cu:188: reg:linear is now deprecated in favor of reg:squarederror.\n"
     ]
    }
   ],
   "source": [
    "param = {'objective': 'reg:linear', 'eta': 0.03, 'max_depth': 4}\n",
    "xgb_r = xg.train(params=param,dtrain = d_train, num_boost_round = 10)\n",
    "y_train_pred = xgb_r.predict(d_train)\n",
    "y_valid_pred = xgb_r.predict(d_valid)\n",
    "y_test_pred = xgb_r.predict(d_test)"
   ]
  },
  {
   "cell_type": "code",
   "execution_count": 223,
   "id": "4cca72f8",
   "metadata": {},
   "outputs": [
    {
     "name": "stdout",
     "output_type": "stream",
     "text": [
      "R^2 train: -2447.975955655754\n",
      "R^2 valid set: -2439.5525358364634\n"
     ]
    }
   ],
   "source": [
    "R_square_train = r2_score(y_train_pred, y_train_f) \n",
    "R_square_valid = r2_score(y_valid_pred, y_valid_f) \n",
    "print('R^2 train:', R_square_train) \n",
    "print('R^2 valid set:', R_square_valid) "
   ]
  },
  {
   "cell_type": "code",
   "execution_count": 224,
   "id": "c836777b",
   "metadata": {},
   "outputs": [
    {
     "name": "stdout",
     "output_type": "stream",
     "text": [
      "RMSE of train data:  74.899321\n",
      "RMSE of valid set data :  74.824379\n"
     ]
    }
   ],
   "source": [
    "# Train set\n",
    "rmse_train = np.sqrt(MSE(y_train_f, y_train_pred))\n",
    "print(\"RMSE of train data: % f\" %(rmse_train))\n",
    "\n",
    "#Valid set\n",
    "rmse_valid = np.sqrt(MSE(y_valid_f, y_valid_pred))\n",
    "print(\"RMSE of valid set data : % f\" %(rmse_valid))"
   ]
  },
  {
   "cell_type": "code",
   "execution_count": 225,
   "id": "4f27d302",
   "metadata": {},
   "outputs": [
    {
     "data": {
      "image/png": "[encoded data removed]",
      "text/plain": [
       "<Figure size 640x480 with 1 Axes>"
      ]
     },
     "metadata": {
      "needs_background": "light"
     },
     "output_type": "display_data"
    }
   ],
   "source": [
    "from matplotlib.pyplot import figure\n",
    "# Actual vs Predicted on Train data\n",
    "figure(figsize=(8, 6), dpi=80)\n",
    "plt.scatter(y_train_f,y_train_pred)\n",
    "plt.title(\"Actual vs Predicted values - Train data\")\n",
    "plt.xlabel(\"Actual values\")\n",
    "plt.ylabel(\"Predicted values\")\n",
    "plt.show()"
   ]
  }
 ],
 "metadata": {
  "kernelspec": {
   "display_name": "Python 3 (ipykernel)",
   "language": "python",
   "name": "python3"
  },
  "language_info": {
   "codemirror_mode": {
    "name": "ipython",
    "version": 3
   },
   "file_extension": ".py",
   "mimetype": "text/x-python",
   "name": "python",
   "nbconvert_exporter": "python",
   "pygments_lexer": "ipython3",
   "version": "3.9.12"
  }
 },
 "nbformat": 4,
 "nbformat_minor": 5
}
